{
 "cells": [
  {
   "cell_type": "markdown",
   "metadata": {},
   "source": [
    "On a series of E-mini S&P 500 futures tick data:\n",
    "## 1. Form tick, volume and dollars bars. Use the ETF trick to deal with the roll\n"
   ]
  },
  {
   "cell_type": "markdown",
   "metadata": {},
   "source": [
    "Looks like that the real E-mini S&P 500 futures tick data costs [around $800\\$$ dollars](http://www.kibot.com/buy.aspx#futures). So I should look for some toy tick data to play with. I found some [sample futures tick data](https://www.tickdata.com/product/historical-futures-data/), under `sample data`"
   ]
  },
  {
   "cell_type": "code",
   "execution_count": 1,
   "metadata": {},
   "outputs": [],
   "source": [
    "import pandas as pd"
   ]
  },
  {
   "cell_type": "markdown",
   "metadata": {},
   "source": [
    "In this `sample data` dataset we get both quotes and trades [tick data](https://www.investopedia.com/terms/t/tick.asp)\n",
    "\n",
    "(https://community.optimusfutures.com/t/difference-between-quote-data-and-trade-data/1456)\n",
    "1. **“Quote Data”** usually means top-of-book bid/ask data. (Also called BBO=best bid/offer, TOB, inside market, etc.) But more generally it can also mean all the current resting orders sitting on the book at any given time. These are limit orders that are less competitive than ones at the top-of-book.\n",
    "\n",
    "2. **“Trade Data”** means the record of trades that were actually transacted.\n",
    "\n",
    "This sample tick data go from 01 Sept 2013 to 12 Sept 2013 for ESU13 (delivery date 20 Sept 2013), and from 12 Sept 2013 to 20 Sept 2013 for ESZ13 (deliver date 20 Dec 2013).\n"
   ]
  },
  {
   "cell_type": "code",
   "execution_count": 2,
   "metadata": {},
   "outputs": [],
   "source": [
    "ES_Quotes = pd.read_csv(\"./data/ES_Quotes.csv\")"
   ]
  },
  {
   "cell_type": "code",
   "execution_count": 3,
   "metadata": {},
   "outputs": [],
   "source": [
    "ES_Trades = pd.read_csv(\"./data/ES_Trades.csv\")"
   ]
  },
  {
   "cell_type": "code",
   "execution_count": 4,
   "metadata": {},
   "outputs": [
    {
     "data": {
      "text/html": [
       "<div>\n",
       "<style scoped>\n",
       "    .dataframe tbody tr th:only-of-type {\n",
       "        vertical-align: middle;\n",
       "    }\n",
       "\n",
       "    .dataframe tbody tr th {\n",
       "        vertical-align: top;\n",
       "    }\n",
       "\n",
       "    .dataframe thead th {\n",
       "        text-align: right;\n",
       "    }\n",
       "</style>\n",
       "<table border=\"1\" class=\"dataframe\">\n",
       "  <thead>\n",
       "    <tr style=\"text-align: right;\">\n",
       "      <th></th>\n",
       "      <th>Symbol</th>\n",
       "      <th>Date</th>\n",
       "      <th>Time</th>\n",
       "      <th>Bid Price</th>\n",
       "      <th>Bid Size</th>\n",
       "      <th>Ask Price</th>\n",
       "      <th>Ask Size</th>\n",
       "      <th>Market Flag</th>\n",
       "      <th>Quote Condition</th>\n",
       "    </tr>\n",
       "  </thead>\n",
       "  <tbody>\n",
       "    <tr>\n",
       "      <th>0</th>\n",
       "      <td>ESU13</td>\n",
       "      <td>09/01/2013</td>\n",
       "      <td>17:00:00.095</td>\n",
       "      <td>1640.0</td>\n",
       "      <td>10</td>\n",
       "      <td>1640.25</td>\n",
       "      <td>1452</td>\n",
       "      <td>E</td>\n",
       "      <td>NaN</td>\n",
       "    </tr>\n",
       "    <tr>\n",
       "      <th>1</th>\n",
       "      <td>ESU13</td>\n",
       "      <td>09/01/2013</td>\n",
       "      <td>17:00:00.095</td>\n",
       "      <td>1640.0</td>\n",
       "      <td>10</td>\n",
       "      <td>1640.25</td>\n",
       "      <td>1452</td>\n",
       "      <td>E</td>\n",
       "      <td>NaN</td>\n",
       "    </tr>\n",
       "  </tbody>\n",
       "</table>\n",
       "</div>"
      ],
      "text/plain": [
       "  Symbol        Date          Time  Bid Price  Bid Size  Ask Price  Ask Size  \\\n",
       "0  ESU13  09/01/2013  17:00:00.095     1640.0        10    1640.25      1452   \n",
       "1  ESU13  09/01/2013  17:00:00.095     1640.0        10    1640.25      1452   \n",
       "\n",
       "  Market Flag  Quote Condition  \n",
       "0           E              NaN  \n",
       "1           E              NaN  "
      ]
     },
     "execution_count": 4,
     "metadata": {},
     "output_type": "execute_result"
    }
   ],
   "source": [
    "ES_Quotes.head(2)"
   ]
  },
  {
   "cell_type": "code",
   "execution_count": 5,
   "metadata": {},
   "outputs": [
    {
     "data": {
      "text/plain": [
       "Index(['Symbol', 'Date', 'Time', 'Price', 'Volume', 'Market Flag',\n",
       "       'Sales Condition', 'Exclude Record Flag', 'Unfiltered Price'],\n",
       "      dtype='object')"
      ]
     },
     "execution_count": 5,
     "metadata": {},
     "output_type": "execute_result"
    }
   ],
   "source": [
    "ES_Trades.columns"
   ]
  },
  {
   "cell_type": "code",
   "execution_count": 6,
   "metadata": {},
   "outputs": [
    {
     "data": {
      "text/html": [
       "<div>\n",
       "<style scoped>\n",
       "    .dataframe tbody tr th:only-of-type {\n",
       "        vertical-align: middle;\n",
       "    }\n",
       "\n",
       "    .dataframe tbody tr th {\n",
       "        vertical-align: top;\n",
       "    }\n",
       "\n",
       "    .dataframe thead th {\n",
       "        text-align: right;\n",
       "    }\n",
       "</style>\n",
       "<table border=\"1\" class=\"dataframe\">\n",
       "  <thead>\n",
       "    <tr style=\"text-align: right;\">\n",
       "      <th></th>\n",
       "      <th>Symbol</th>\n",
       "      <th>Date</th>\n",
       "      <th>Time</th>\n",
       "      <th>Price</th>\n",
       "      <th>Volume</th>\n",
       "      <th>Market Flag</th>\n",
       "      <th>Sales Condition</th>\n",
       "      <th>Exclude Record Flag</th>\n",
       "      <th>Unfiltered Price</th>\n",
       "    </tr>\n",
       "  </thead>\n",
       "  <tbody>\n",
       "    <tr>\n",
       "      <th>0</th>\n",
       "      <td>ESU13</td>\n",
       "      <td>09/01/2013</td>\n",
       "      <td>17:00:00.083</td>\n",
       "      <td>1640.25</td>\n",
       "      <td>8</td>\n",
       "      <td>E</td>\n",
       "      <td>0</td>\n",
       "      <td>NaN</td>\n",
       "      <td>1640.25</td>\n",
       "    </tr>\n",
       "    <tr>\n",
       "      <th>1</th>\n",
       "      <td>ESU13</td>\n",
       "      <td>09/01/2013</td>\n",
       "      <td>17:00:00.083</td>\n",
       "      <td>1640.25</td>\n",
       "      <td>1</td>\n",
       "      <td>E</td>\n",
       "      <td>0</td>\n",
       "      <td>NaN</td>\n",
       "      <td>1640.25</td>\n",
       "    </tr>\n",
       "  </tbody>\n",
       "</table>\n",
       "</div>"
      ],
      "text/plain": [
       "  Symbol        Date          Time    Price  Volume Market Flag  \\\n",
       "0  ESU13  09/01/2013  17:00:00.083  1640.25       8           E   \n",
       "1  ESU13  09/01/2013  17:00:00.083  1640.25       1           E   \n",
       "\n",
       "   Sales Condition  Exclude Record Flag  Unfiltered Price  \n",
       "0                0                  NaN           1640.25  \n",
       "1                0                  NaN           1640.25  "
      ]
     },
     "execution_count": 6,
     "metadata": {},
     "output_type": "execute_result"
    }
   ],
   "source": [
    "ES_Trades.head(2)"
   ]
  },
  {
   "cell_type": "markdown",
   "metadata": {},
   "source": [
    "For our exercise we need to use trade data"
   ]
  },
  {
   "cell_type": "code",
   "execution_count": 7,
   "metadata": {},
   "outputs": [
    {
     "data": {
      "text/plain": [
       "0          ESU13\n",
       "3354193    ESZ13\n",
       "Name: Symbol, dtype: object"
      ]
     },
     "execution_count": 7,
     "metadata": {},
     "output_type": "execute_result"
    }
   ],
   "source": [
    "#ES_Trades['Symbol'].value_counts()\n",
    "ES_Trades['Symbol'].drop_duplicates(keep='first')"
   ]
  },
  {
   "cell_type": "markdown",
   "metadata": {},
   "source": [
    "The two symbols are \n",
    "1. E-Mini S&P 500 Sep '13 (ESU13)\n",
    "2. E-Mini S&P 500 Dec '13 (ESZ13)"
   ]
  },
  {
   "cell_type": "code",
   "execution_count": 8,
   "metadata": {},
   "outputs": [
    {
     "data": {
      "text/plain": [
       "(Symbol                        ESU13\n",
       " Date                     09/12/2013\n",
       " Time                   16:14:58.709\n",
       " Price                        1685.5\n",
       " Volume                            3\n",
       " Market Flag                       E\n",
       " Sales Condition                   0\n",
       " Exclude Record Flag             NaN\n",
       " Unfiltered Price             1685.5\n",
       " Name: 3354192, dtype: object, Symbol                        ESZ13\n",
       " Date                     09/12/2013\n",
       " Time                   17:00:00.024\n",
       " Price                       1678.25\n",
       " Volume                            1\n",
       " Market Flag                       E\n",
       " Sales Condition                   0\n",
       " Exclude Record Flag             NaN\n",
       " Unfiltered Price            1678.25\n",
       " Name: 3354193, dtype: object)"
      ]
     },
     "execution_count": 8,
     "metadata": {},
     "output_type": "execute_result"
    }
   ],
   "source": [
    "ES_Trades.iloc[3354192], ES_Trades.iloc[3354193] # here is the contract rollover"
   ]
  },
  {
   "cell_type": "markdown",
   "metadata": {},
   "source": [
    "(https://www.cmegroup.com/education/courses/introduction-to-futures/understanding-futures-expiration-contract-roll.html)\n",
    "**Rollover** is when a trader moves his position from the front month contract to a another contract further in the future. Traders will determine when they need to move to the new contract by watching volume of both the expiring contract and next month contract. A trader who is going to roll their positions may choose to switch to the next month contract when volume has reached a certain level in that contract."
   ]
  },
  {
   "cell_type": "code",
   "execution_count": 9,
   "metadata": {},
   "outputs": [],
   "source": [
    "from matplotlib import pyplot as plt"
   ]
  },
  {
   "cell_type": "code",
   "execution_count": 10,
   "metadata": {},
   "outputs": [
    {
     "data": {
      "text/plain": [
       "Text(0.5, 1.0, 'Contract roll ESU13 -> ESZ13')"
      ]
     },
     "execution_count": 10,
     "metadata": {},
     "output_type": "execute_result"
    },
    {
     "data": {
      "image/png": "[encoded data removed]",
      "text/plain": [
       "<Figure size 432x288 with 1 Axes>"
      ]
     },
     "metadata": {
      "needs_background": "light"
     },
     "output_type": "display_data"
    }
   ],
   "source": [
    "plt.plot(ES_Trades['Price'].iloc[3354100:3354299]) \n",
    "plt.title(\"Contract roll ESU13 -> ESZ13\")"
   ]
  },
  {
   "cell_type": "code",
   "execution_count": 11,
   "metadata": {},
   "outputs": [
    {
     "data": {
      "text/plain": [
       "Int64Index([0, 3354193], dtype='int64')"
      ]
     },
     "execution_count": 11,
     "metadata": {},
     "output_type": "execute_result"
    }
   ],
   "source": [
    "ES_Trades['Symbol'].drop_duplicates(keep='first').index"
   ]
  },
  {
   "cell_type": "markdown",
   "metadata": {},
   "source": [
    "To deal with this contract roll we use the book propose to **take a cumsum of all this rollover gaps and subtract it from the price series.** (The book implementation though is terrible) One other observation made in the book is that rolled price can become negative. So instead of dealing with rolled prices you can use a price series of a $1 investment."
   ]
  },
  {
   "cell_type": "markdown",
   "metadata": {},
   "source": [
    "Let's try to extract tick bars"
   ]
  },
  {
   "cell_type": "code",
   "execution_count": 46,
   "metadata": {},
   "outputs": [],
   "source": [
    "tick_batch_size = 1000\n",
    "tick_data_format = {\n",
    "                '_Symbol':'Symbol', \n",
    "                '_Date':'Date',\n",
    "                '_Time':'Time',\n",
    "                '_Price':'Price', \n",
    "                '_Volume':'Volume', \n",
    "                }\n",
    "extraction_columns = ['Price','Volume']\n",
    "tick_data = ES_Trades"
   ]
  },
  {
   "cell_type": "code",
   "execution_count": 47,
   "metadata": {},
   "outputs": [
    {
     "data": {
      "text/plain": [
       "Int64Index([   0,    0,    0,    0,    0,    0,    0,    0,    0,    0,\n",
       "            ...\n",
       "            5454, 5454, 5454, 5454, 5454, 5454, 5454, 5454, 5454, 5454],\n",
       "           dtype='int64', length=5454950)"
      ]
     },
     "execution_count": 47,
     "metadata": {},
     "output_type": "execute_result"
    }
   ],
   "source": [
    "tick_data.index // tick_batch_size # https://stackoverflow.com/questions/20180324/bin-pandas-dataframe-by-every-x-rows"
   ]
  },
  {
   "cell_type": "code",
   "execution_count": 48,
   "metadata": {},
   "outputs": [],
   "source": [
    "tick_data = tick_data[extraction_columns]"
   ]
  },
  {
   "cell_type": "code",
   "execution_count": 53,
   "metadata": {},
   "outputs": [],
   "source": [
    "O = tick_data.groupby(tick_data.index // tick_batch_size).first()\n",
    "C = tick_data.groupby(tick_data.index // tick_batch_size).last()"
   ]
  },
  {
   "cell_type": "code",
   "execution_count": 20,
   "metadata": {},
   "outputs": [],
   "source": [
    "H = tick_data.groupby(tick_data.index // tick_batch_size).Price.max()\n",
    "L = tick_data.groupby(tick_data.index // tick_batch_size).Price.min()"
   ]
  },
  {
   "cell_type": "code",
   "execution_count": 33,
   "metadata": {},
   "outputs": [],
   "source": [
    "assert ((len(O) - 1) * tick_batch_size < len(tick_data) < len(O) * tick_batch_size)"
   ]
  },
  {
   "cell_type": "code",
   "execution_count": 61,
   "metadata": {},
   "outputs": [],
   "source": [
    "assert not O.empty"
   ]
  },
  {
   "cell_type": "markdown",
   "metadata": {},
   "source": [
    "## 2. Count the number of bars produced by tick, volumne and dollar bars on a weekly basis. Plot a time series of that bar count. What bar type produces the most stable weekly count? Why?"
   ]
  },
  {
   "cell_type": "code",
   "execution_count": null,
   "metadata": {},
   "outputs": [],
   "source": []
  }
 ],
 "metadata": {
  "kernelspec": {
   "display_name": "Python 3",
   "language": "python",
   "name": "python3"
  },
  "language_info": {
   "codemirror_mode": {
    "name": "ipython",
    "version": 3
   },
   "file_extension": ".py",
   "mimetype": "text/x-python",
   "name": "python",
   "nbconvert_exporter": "python",
   "pygments_lexer": "ipython3",
   "version": "3.6.2+"
  }
 },
 "nbformat": 4,
 "nbformat_minor": 2
}
